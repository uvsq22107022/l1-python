{
 "cells": [
  {
   "cell_type": "markdown",
   "metadata": {},
   "source": [
    "Exercice 1"
   ]
  },
  {
   "cell_type": "code",
   "execution_count": 129,
   "metadata": {},
   "outputs": [
    {
     "name": "stdout",
     "output_type": "stream",
     "text": [
      "[4, 4, 5]\n",
      "[2, 5, 3]\n",
      "[5]\n",
      "None\n"
     ]
    }
   ],
   "source": [
    "def n(x):\n",
    "    liste1=[]\n",
    "    liste2=[]\n",
    "    for i in range(x):\n",
    "        i= int(input(\"une valeur\"))\n",
    "        liste1.append(i)\n",
    "    print(liste1)\n",
    "    \n",
    "    for i in range(x):\n",
    "        i= int(input(\"une valeur\"))\n",
    "        liste2.append(i)\n",
    "    print(liste2)\n",
    "    \n",
    "    for i in range(x):\n",
    "        if liste1[i]==liste2[i]:\n",
    "            i= i +1 \n",
    "            liste1.append(i)\n",
    "    set1= set(liste1)\n",
    "    set2= set(liste2)\n",
    "    intersection= list(set1 & set2)\n",
    "    print(intersection)\n",
    "    return\n",
    "\n",
    "print(n(int(input(\"nombre de terme\"))))\n",
    "\n"
   ]
  },
  {
   "cell_type": "markdown",
   "metadata": {},
   "source": [
    "Exercice 2"
   ]
  },
  {
   "cell_type": "code",
   "execution_count": 131,
   "metadata": {},
   "outputs": [
    {
     "name": "stdout",
     "output_type": "stream",
     "text": [
      "[1, 2, 3]\n",
      "[7, 8, 9]\n",
      "[8, 10, 12]\n",
      "None\n"
     ]
    }
   ],
   "source": [
    "a= []\n",
    "b= []\n",
    "c= []\n",
    "def n(x):\n",
    "    for i in range(x):\n",
    "        #Définir la 1er suite.\n",
    "        i= int(input(\"une valeur\"))\n",
    "        a.append(i)\n",
    "    print(a)\n",
    "    \n",
    "    for i in range(x):\n",
    "        #Puis la 2eme suite\n",
    "        i= i= int(input(\"une valeur\"))\n",
    "        b.append(i)\n",
    "    print(b)\n",
    "\n",
    "    for i in range(x):\n",
    "        #Ensuite cela addition chaque terme de la suite entre eux\n",
    "        c.append(a[i]+ b[i])\n",
    "    print(c)\n",
    "    \n",
    "    return\n",
    "\n",
    "print(n(int(input(\"nombre de terme\"))))\n",
    "#Definir le nombre de terme dans la suite \n"
   ]
  }
 ],
 "metadata": {
  "interpreter": {
   "hash": "a8e4759d72a4c852846975821eeff7b51027d7042efa44afdc3767d7d946d098"
  },
  "kernelspec": {
   "display_name": "Python 3.9.7 64-bit ('l1-python': conda)",
   "language": "python",
   "name": "python3"
  },
  "language_info": {
   "codemirror_mode": {
    "name": "ipython",
    "version": 3
   },
   "file_extension": ".py",
   "mimetype": "text/x-python",
   "name": "python",
   "nbconvert_exporter": "python",
   "pygments_lexer": "ipython3",
   "version": "3.9.7"
  },
  "orig_nbformat": 4
 },
 "nbformat": 4,
 "nbformat_minor": 2
}
